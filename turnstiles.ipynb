{
  "nbformat": 4,
  "nbformat_minor": 0,
  "metadata": {
    "colab": {
      "provenance": [],
      "authorship_tag": "ABX9TyM55t9KbTsHnZAUmb6DiZjF",
      "include_colab_link": true
    },
    "kernelspec": {
      "name": "python3",
      "display_name": "Python 3"
    },
    "language_info": {
      "name": "python"
    }
  },
  "cells": [
    {
      "cell_type": "markdown",
      "metadata": {
        "id": "view-in-github",
        "colab_type": "text"
      },
      "source": [
        "<a href=\"https://colab.research.google.com/github/sashavorot/multiclass-turnikets/blob/main/turnstiles.ipynb\" target=\"_parent\"><img src=\"https://colab.research.google.com/assets/colab-badge.svg\" alt=\"Open In Colab\"/></a>"
      ]
    },
    {
      "cell_type": "code",
      "source": [
        "!pip install catboost"
      ],
      "metadata": {
        "collapsed": true,
        "id": "hMp2YMHlGyoR"
      },
      "execution_count": null,
      "outputs": []
    },
    {
      "cell_type": "code",
      "source": [
        "!pip install workalendar"
      ],
      "metadata": {
        "id": "24vJGgPRdS6g"
      },
      "execution_count": null,
      "outputs": []
    },
    {
      "cell_type": "code",
      "execution_count": null,
      "metadata": {
        "id": "a_cYPOyQnJti"
      },
      "outputs": [],
      "source": [
        "import pandas as pd\n",
        "import numpy as np"
      ]
    },
    {
      "cell_type": "code",
      "source": [
        "import zipfile"
      ],
      "metadata": {
        "id": "tvO6-rsB-QJ7"
      },
      "execution_count": null,
      "outputs": []
    },
    {
      "cell_type": "code",
      "source": [
        "import xgboost as xgb\n",
        "import lightgbm as lgb\n",
        "from catboost import CatBoostClassifier"
      ],
      "metadata": {
        "collapsed": true,
        "id": "cdl5vWB_E1TL"
      },
      "execution_count": null,
      "outputs": []
    },
    {
      "cell_type": "code",
      "source": [
        "from sklearn.model_selection import train_test_split\n",
        "from sklearn.metrics import accuracy_score"
      ],
      "metadata": {
        "id": "ZP_xK2EsHTzn"
      },
      "execution_count": null,
      "outputs": []
    },
    {
      "cell_type": "code",
      "source": [
        "import matplotlib.pyplot as plt\n",
        "import seaborn as sns"
      ],
      "metadata": {
        "id": "4nLbSt27HgaU"
      },
      "execution_count": null,
      "outputs": []
    },
    {
      "cell_type": "code",
      "source": [
        "import datetime\n",
        "from datetime import date, timedelta\n",
        "from workalendar.europe import Russia"
      ],
      "metadata": {
        "id": "ltFwhrmNMRQr"
      },
      "execution_count": null,
      "outputs": []
    },
    {
      "cell_type": "code",
      "source": [
        "from pprint import pprint"
      ],
      "metadata": {
        "id": "Ir9bGbDmTmh1"
      },
      "execution_count": null,
      "outputs": []
    },
    {
      "cell_type": "code",
      "source": [
        "df_test_orig = pd.read_csv(\"test.csv\")\n",
        "df_train_orig = pd.read_csv(\"train.csv\")\n",
        "\n",
        "df_test = df_test_orig.copy()\n",
        "df_train = df_train_orig.copy()"
      ],
      "metadata": {
        "id": "gfd_HM8KVCK0"
      },
      "execution_count": null,
      "outputs": []
    },
    {
      "cell_type": "code",
      "source": [
        "if 'Unnamed: 0' in df_test.columns: df_test.drop(columns=['Unnamed: 0'], inplace=True)\n",
        "if 'Unnamed: 0' in df_train.columns: df_train.drop(columns=['Unnamed: 0'], inplace=True)"
      ],
      "metadata": {
        "id": "CLq0EsYsVC8Q"
      },
      "execution_count": null,
      "outputs": []
    },
    {
      "cell_type": "code",
      "source": [
        "if 'lost_id' in df_test.columns:\n",
        "  df_test['user_id'] = df_test['lost_id']\n",
        "  df_test.drop(columns=['lost_id'], inplace=True)\n",
        "\n",
        "df_test.info()"
      ],
      "metadata": {
        "id": "OQyeQcDKVJlr"
      },
      "execution_count": null,
      "outputs": []
    },
    {
      "cell_type": "code",
      "source": [
        "def time_div(df):\n",
        "  if 'ts' not in df.columns: return df\n",
        "\n",
        "  df['date'] = df['ts'].str[:10]\n",
        "  df['time'] = df['ts'].str[10:]\n",
        "\n",
        "  df.drop(columns=['ts'], inplace=True)\n",
        "\n",
        "  return df"
      ],
      "metadata": {
        "id": "QqrcxyPGVKUS"
      },
      "execution_count": null,
      "outputs": []
    },
    {
      "cell_type": "code",
      "source": [
        "df_test = time_div(df_test)\n",
        "df_train = time_div(df_train)"
      ],
      "metadata": {
        "id": "_cthQSSOVTLQ"
      },
      "execution_count": null,
      "outputs": []
    },
    {
      "cell_type": "code",
      "source": [
        "def get_weekends(year):\n",
        "    weekends = set()\n",
        "    d = date(year, 1, 1)\n",
        "\n",
        "    while d.year == year:\n",
        "        if d.weekday() >= 5:\n",
        "            weekends.add(d.strftime('%Y-%m-%d'))\n",
        "        d += timedelta(days=1)\n",
        "\n",
        "    return weekends"
      ],
      "metadata": {
        "id": "N_i_kBNJN_fh"
      },
      "execution_count": null,
      "outputs": []
    },
    {
      "cell_type": "markdown",
      "source": [
        "**fug** - frequency user-gate\n",
        "\n",
        "---\n",
        "\n",
        "\n",
        "связь user_id с его приоритетами в турникетах"
      ],
      "metadata": {
        "id": "ZrFosymqVtzx"
      }
    },
    {
      "cell_type": "code",
      "source": [
        "def dct_user_group(df):\n",
        "  dct = {}\n",
        "  for user_id, group in df.groupby('user_id'):\n",
        "    dct[user_id] = group['gate_id'].tolist()\n",
        "\n",
        "  return dct"
      ],
      "metadata": {
        "id": "Aa9fZ34wskAa"
      },
      "execution_count": null,
      "outputs": []
    },
    {
      "cell_type": "code",
      "source": [
        "def train_test_split_unique(df):\n",
        "  train, test = train_test_split(df, test_size=0.4)\n",
        "\n",
        "  missing_users = set(df['user_id'].unique()) - set(train['user_id'].unique())\n",
        "\n",
        "  for user in missing_users:\n",
        "    train = pd.concat([train, df[df['user_id'] == user]])\n",
        "\n",
        "  return [train, test]"
      ],
      "metadata": {
        "id": "warBzsUNcJiI"
      },
      "execution_count": null,
      "outputs": []
    },
    {
      "cell_type": "code",
      "source": [
        "def fug_sort(dct):\n",
        "  for key, arr in dct.items():\n",
        "    dct_freq = {}\n",
        "    for i in range(len(arr)):\n",
        "      if arr[i] in dct_freq:\n",
        "        dct_freq[arr[i]] += 1\n",
        "      else: dct_freq[arr[i]] = 1\n",
        "\n",
        "    lst = [key for key, value in sorted(dct_freq.items(), key=lambda item: item[1], reverse=True)]\n",
        "    dct[key] = lst\n",
        "\n",
        "  return dct"
      ],
      "metadata": {
        "id": "9vaoKzCxWW3G"
      },
      "execution_count": null,
      "outputs": []
    },
    {
      "cell_type": "code",
      "source": [
        "dct_train_100 = dct_user_group(df_train)\n",
        "dct_train_100 = fug_sort(dct_train_100)\n",
        "\n",
        "dct_train_80 = dct_user_group(train)\n",
        "dct_train_80 = fug_sort(dct_train_80)"
      ],
      "metadata": {
        "id": "NWay4_o1WfN2"
      },
      "execution_count": null,
      "outputs": []
    },
    {
      "cell_type": "code",
      "source": [
        "def jaccard_distance(set1, set2):\n",
        "  intersection = len(set1.intersection(set2))\n",
        "  union = len(set1.union(set2))\n",
        "\n",
        "  if union > 0 : return 1 - (intersection / union)\n",
        "  else: return 1"
      ],
      "metadata": {
        "id": "zjOoOjvxWi4z"
      },
      "execution_count": null,
      "outputs": []
    },
    {
      "cell_type": "code",
      "source": [
        "fug_preds = {}\n",
        "fug_confidences = {}\n",
        "\n",
        "for user, gates in dct_train_100.items():\n",
        "    gates_set = set(gates)\n",
        "\n",
        "    if not gates_set:\n",
        "        continue\n",
        "\n",
        "    best_match = None\n",
        "    best_distance = float(\"inf\")\n",
        "\n",
        "    for train_user, train_gates in dct_train_80.items():\n",
        "        train_set = set(train_gates)\n",
        "\n",
        "        if not train_set:\n",
        "            continue\n",
        "\n",
        "        distance = jaccard_distance(gates_set, train_set)\n",
        "\n",
        "        if distance < best_distance:\n",
        "            best_distance = distance\n",
        "            best_match = train_user\n",
        "\n",
        "    fug_preds[user] = best_match\n",
        "    fug_confidences[user] = 1 - best_distance"
      ],
      "metadata": {
        "id": "tMv6KBLCWuMp"
      },
      "execution_count": null,
      "outputs": []
    },
    {
      "cell_type": "code",
      "source": [
        "df_train[\"fug_predict\"] = df_train[\"user_id\"].map(fug_preds)\n",
        "df_train[\"fug_confidence\"] = df_train[\"user_id\"].map(fug_confidences)"
      ],
      "metadata": {
        "id": "V9XDz26WW2dM"
      },
      "execution_count": null,
      "outputs": []
    },
    {
      "cell_type": "code",
      "source": [
        "acc = accuracy_score(df_train['user_id'], df_train['fug_predict'])\n",
        "print(acc)"
      ],
      "metadata": {
        "id": "JKsi9SXQW3VL"
      },
      "execution_count": null,
      "outputs": []
    },
    {
      "cell_type": "code",
      "source": [
        "arr = train_test_split_unique(df_train)\n",
        "train = arr[0]\n",
        "test = arr[1]\n",
        "\n",
        "X_train = train.drop(columns=[\"user_id\", \"date\", \"time\"])\n",
        "y_train = train[\"user_id\"]\n",
        "\n",
        "model = CatBoostClassifier(iterations=500, depth=6, learning_rate=0.1, loss_function='MultiClass', verbose=100)\n",
        "model.fit(X_train, y_train)"
      ],
      "metadata": {
        "id": "rRJINhUqW-7S"
      },
      "execution_count": null,
      "outputs": []
    },
    {
      "cell_type": "code",
      "source": [
        "X_test = test.drop(columns=[\"user_id\", \"date\", \"time\"])\n",
        "y_test = test[\"user_id\"]\n",
        "\n",
        "y_pred = model.predict(X_test).astype(int)\n",
        "acc = accuracy_score(y_pred, y_test)\n",
        "\n",
        "print(acc)"
      ],
      "metadata": {
        "id": "lR0cPyn1XLCe"
      },
      "execution_count": null,
      "outputs": []
    },
    {
      "cell_type": "markdown",
      "source": [
        "таким образом с добавлением фичи fug точность стала 55%"
      ],
      "metadata": {
        "id": "qBSmgYA3XL_q"
      }
    },
    {
      "cell_type": "markdown",
      "source": [
        "**us** - user schedule\n",
        "\n",
        "---\n",
        "\n",
        "связь user_id с его рабочим расписанием"
      ],
      "metadata": {
        "id": "2BkMO6KBXanZ"
      }
    },
    {
      "cell_type": "code",
      "source": [
        "def dct_user_group_us(df):\n",
        "  dct = {}\n",
        "  for user_id, group in df.groupby('user_id'):\n",
        "    dct[user_id] = [datetime.datetime.strptime(date, \"%Y-%m-%d\").weekday() for date in group['date']]\n",
        "\n",
        "  return dct"
      ],
      "metadata": {
        "id": "82pdKRwybGdo"
      },
      "execution_count": null,
      "outputs": []
    },
    {
      "cell_type": "code",
      "source": [
        "def us_frequency(dct):\n",
        "  for key, arr in dct.items():\n",
        "    arr_freq = [0 for i in range(7)]\n",
        "\n",
        "    l = len(arr)\n",
        "    for i in range(l):\n",
        "      arr_freq[arr[i]] += 1\n",
        "\n",
        "    for i in range(7):\n",
        "      arr_freq[i] /= l\n",
        "\n",
        "    dct[key] = arr_freq\n",
        "\n",
        "  return dct"
      ],
      "metadata": {
        "id": "cpIQVAMbmZu3"
      },
      "execution_count": null,
      "outputs": []
    },
    {
      "cell_type": "code",
      "source": [
        "def us_sort(dct):\n",
        "  for key, arr in dct.items():\n",
        "    dct_freq = {}\n",
        "    for i in range(len(arr)):\n",
        "      if arr[i] in dct_freq:\n",
        "        dct_freq[arr[i]] += 1\n",
        "      else: dct_freq[arr[i]] = 1\n",
        "\n",
        "    lst = [key for key, value in sorted(dct_freq.items(), key=lambda item: item[1], reverse=True)]\n",
        "    dct[key] = lst\n",
        "\n",
        "  return dct"
      ],
      "metadata": {
        "id": "SXzyaqDQeUQv"
      },
      "execution_count": null,
      "outputs": []
    },
    {
      "cell_type": "code",
      "source": [
        "dct_train_100 = dct_user_group_us(df_train)\n",
        "dct_train_100 = us_frequency(dct_train_100)\n",
        "\n",
        "dct_train_80 = dct_user_group_us(train)\n",
        "dct_train_80 = us_frequency(dct_train_80)"
      ],
      "metadata": {
        "id": "Q7xbj6SXhZKN"
      },
      "execution_count": null,
      "outputs": []
    },
    {
      "cell_type": "code",
      "source": [
        "us_preds = {}\n",
        "us_confidences = {}\n",
        "\n",
        "for user, days in dct_train_100.items():\n",
        "    best_match = None\n",
        "    best_distance = float(\"inf\")\n",
        "\n",
        "    for train_user, train_days in dct_train_80.items():\n",
        "        distance = np.sum((np.array(days) - np.array(train_days)) ** 2)\n",
        "\n",
        "        if distance < best_distance:\n",
        "            best_distance = distance\n",
        "            best_match = train_user\n",
        "\n",
        "    us_preds[user] = best_match\n",
        "    us_confidences[user] = 1 - best_distance"
      ],
      "metadata": {
        "id": "7H2SYIuPhS-S"
      },
      "execution_count": null,
      "outputs": []
    },
    {
      "cell_type": "code",
      "source": [
        "df_train[\"us_predict\"] = df_train[\"user_id\"].map(us_preds)\n",
        "df_train[\"us_confidence\"] = df_train[\"user_id\"].map(us_confidences)"
      ],
      "metadata": {
        "id": "5yoeRY6fh0Sk"
      },
      "execution_count": null,
      "outputs": []
    },
    {
      "cell_type": "code",
      "source": [
        "pd.set_option('display.max_rows', None)\n",
        "df_train.head(100)"
      ],
      "metadata": {
        "collapsed": true,
        "id": "WQROAH5hh99p"
      },
      "execution_count": null,
      "outputs": []
    },
    {
      "cell_type": "code",
      "source": [
        "non_matching_rows = df_train[df_train['user_id'] != df_train['us_predict']]\n",
        "print(non_matching_rows[['user_id', 'gate_id', 'date', 'time', 'us_predict']])"
      ],
      "metadata": {
        "collapsed": true,
        "id": "SQI0jmEHjC3M"
      },
      "execution_count": null,
      "outputs": []
    },
    {
      "cell_type": "code",
      "source": [
        "acc = accuracy_score(df_train['user_id'], df_train['us_predict'])\n",
        "print(acc)"
      ],
      "metadata": {
        "id": "6lN139tneBHv"
      },
      "execution_count": null,
      "outputs": []
    },
    {
      "cell_type": "code",
      "source": [
        "arr = train_test_split_unique(df_train)\n",
        "train = arr[0]\n",
        "test = arr[1]\n",
        "\n",
        "X_train = train.drop(columns=[\"user_id\", \"date\", \"time\"])\n",
        "y_train = train[\"user_id\"]\n",
        "\n",
        "model = CatBoostClassifier(iterations=500, depth=6, learning_rate=0.1, loss_function='MultiClass', verbose=100)\n",
        "model.fit(X_train, y_train)"
      ],
      "metadata": {
        "id": "LtGBtqQXy3Np"
      },
      "execution_count": null,
      "outputs": []
    },
    {
      "cell_type": "code",
      "source": [
        "X_test = test.drop(columns=[\"user_id\", \"date\", \"time\"])\n",
        "y_test = test[\"user_id\"]\n",
        "\n",
        "y_pred = model.predict(X_test).astype(int)\n",
        "acc = accuracy_score(y_pred, y_test)\n",
        "\n",
        "print(acc)"
      ],
      "metadata": {
        "id": "T4eVvlsDzXK-"
      },
      "execution_count": null,
      "outputs": []
    },
    {
      "cell_type": "code",
      "source": [],
      "metadata": {
        "id": "KYFA3CaC-t0n"
      },
      "execution_count": null,
      "outputs": []
    },
    {
      "cell_type": "code",
      "source": [
        "with zipfile.ZipFile(\"answer.zip\", \"w\") as zf:\n",
        "    zf.write(\"answer.csv\")"
      ],
      "metadata": {
        "id": "v1k12ngW-Knn"
      },
      "execution_count": null,
      "outputs": []
    },
    {
      "cell_type": "code",
      "source": [
        "def freq_per_day(df):\n",
        "  year = int(df['date'][0][:4])\n",
        "  d = date(year, 1, 1)\n",
        "\n",
        "  frq_dct = {}\n",
        "\n",
        "  while d.year == year:\n",
        "    d_str = d.strftime('%Y-%m-%d')\n",
        "    frq_dct[d_str] = 0\n",
        "    d += timedelta(days=1)\n",
        "\n",
        "  for row in df['date']:\n",
        "    if row in frq_dct: frq_dct[row] += 1\n",
        "\n",
        "  return frq_dct"
      ],
      "metadata": {
        "id": "pwVigkbObF02"
      },
      "execution_count": null,
      "outputs": []
    },
    {
      "cell_type": "code",
      "source": [
        "def woh_workers(woh, df):\n",
        "  workers = {}\n",
        "\n",
        "  for day in woh:\n",
        "    if day in df['date'].values:\n",
        "      workers[day] = list(set(df[df['date'] == day]['user_id']))\n",
        "\n",
        "  return workers"
      ],
      "metadata": {
        "id": "1MGSvYFv1OuN"
      },
      "execution_count": null,
      "outputs": []
    },
    {
      "cell_type": "code",
      "source": [
        "woh = get_weekends(2022)"
      ],
      "metadata": {
        "collapsed": true,
        "id": "Ut7HftUyJJY6"
      },
      "execution_count": null,
      "outputs": []
    },
    {
      "cell_type": "code",
      "source": [
        "# Праздничные выходные дни, согласно производственному календарю на 22й год\n",
        "holidays_2022 = {\n",
        "    '2022-01-03', '2022-01-04', '2022-01-05', '2022-01-06', '2022-01-07',  # Новогодние праздники\n",
        "    '2022-02-23',               # День защитника Отечества\n",
        "    '2022-03-07', '2022-03-08', # Международный женский день\n",
        "    '2022-05-02', '2022-05-03', # Праздник Весны и Труда\n",
        "    '2022-05-09', '2022-05-10', # День Победы\n",
        "    '2022-06-13',               # День России\n",
        "    '2022-11-04',               # День народного единства\n",
        "}\n",
        "\n",
        "# Праздничные выходные дни, согласно производственному календарю на 23й год\n",
        "holidays_2023 = {\n",
        "    '2023-01-02', '2023-01-03', '2023-01-04', '2023-01-05', '2023-01-06',  # Новогодние праздники\n",
        "    '2023-02-23', '2023-02-24',  # День защитника Отечества\n",
        "    '2023-03-08',                 # Международный женский день\n",
        "    '2023-05-01',                 # Праздник Весны и Труда\n",
        "    '2023-05-08', '2023-05-09',   # День Победы\n",
        "    '2023-06-12',                 # День России\n",
        "    '2023-08-04',                 # без понятия почему он отмечен красным\n",
        "    '2023-11-06',                 # День народного единства\n",
        "}"
      ],
      "metadata": {
        "id": "Q--ziF5c7jXy"
      },
      "execution_count": null,
      "outputs": []
    },
    {
      "cell_type": "code",
      "source": [
        "woh |= holidays_2023 | holidays_2022"
      ],
      "metadata": {
        "id": "ociHOZHK0K9G"
      },
      "execution_count": null,
      "outputs": []
    },
    {
      "cell_type": "code",
      "source": [
        "frequency_per_day = freq_per_day(df_train)"
      ],
      "metadata": {
        "id": "z_8c0-sO-Cex",
        "collapsed": true
      },
      "execution_count": null,
      "outputs": []
    },
    {
      "cell_type": "code",
      "source": [
        "woh_workers(woh, df_train)"
      ],
      "metadata": {
        "id": "2BIpkVYoEPJ7",
        "collapsed": true
      },
      "execution_count": null,
      "outputs": []
    }
  ]
}